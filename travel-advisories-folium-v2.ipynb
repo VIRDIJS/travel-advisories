{
 "cells": [
  {
   "cell_type": "markdown",
   "metadata": {},
   "source": [
    "<div class=\"alert alert-block alert-warning\">\n",
    "<b>Caution:</b> This notebook uses web scraping to obtain data from the US State Department website. The legality of web scraping varies across the world. In general, web scraping may be against the terms of use of some websites.\n",
    "</div>"
   ]
  },
  {
   "cell_type": "markdown",
   "metadata": {},
   "source": [
    "<div class=\"alert alert-block alert-danger\">\n",
    "<b>Disclaimer:</b> This notebook demonstrates an example of how to use python for data visualization and is solely for educational purposes. It should not be relied upon for making travel decisions. Please visit the US State Department website for upto date travel related information and advisories.\n",
    "</div>"
   ]
  },
  {
   "cell_type": "markdown",
   "metadata": {},
   "source": [
    "### Import Libraries"
   ]
  },
  {
   "cell_type": "code",
   "execution_count": null,
   "metadata": {},
   "outputs": [],
   "source": [
    "import requests\n",
    "import csv\n",
    "from bs4 import BeautifulSoup\n",
    "import json\n",
    "import datetime\n",
    "from datetime import datetime as dt\n",
    "import pandas as pd"
   ]
  },
  {
   "cell_type": "markdown",
   "metadata": {},
   "source": [
    "### Define Variables"
   ]
  },
  {
   "cell_type": "code",
   "execution_count": null,
   "metadata": {},
   "outputs": [],
   "source": [
    "# Create lists for each variable\n",
    "lstCountries = []\n",
    "lstUrls = []\n",
    "lstLevel = []\n",
    "lstDates = []\n",
    "FILE_LOCATION = ''\n",
    "URL = ''\n",
    "IMG_PATH = ''"
   ]
  },
  {
   "cell_type": "markdown",
   "metadata": {},
   "source": [
    "### Country flag Image location and CSV file used to get country coordinates"
   ]
  },
  {
   "cell_type": "markdown",
   "metadata": {},
   "source": [
    "<div class=\"alert alert-block alert-info\">\n",
    "<b>Note:</b> Uncomment the lines of code in the following cell after instering the path to csv files and images and before running the notebook.\n",
    "</div>"
   ]
  },
  {
   "cell_type": "code",
   "execution_count": null,
   "metadata": {},
   "outputs": [],
   "source": [
    "# FILE_LOCATION = r'[Insert path to your csv file containing country coordinates]'\n",
    "# IMG_PATH = r'[Insert path to folder holding flag images]'"
   ]
  },
  {
   "cell_type": "markdown",
   "metadata": {},
   "source": [
    "### Get the __[US State Department](https://travel.state.gov)__ Travel Advisories Data"
   ]
  },
  {
   "cell_type": "code",
   "execution_count": null,
   "metadata": {},
   "outputs": [],
   "source": [
    "URL = 'https://travel.state.gov/content/travel/en/traveladvisories/traveladvisories.html/'\n",
    "page = requests.get(URL)\n",
    "soup = BeautifulSoup(page.content, 'html.parser')\n",
    "results = soup.find(class_='table-data')\n",
    "table_rows = results.tbody.find_all(\"tr\")[1:]\n",
    "myList = []"
   ]
  },
  {
   "cell_type": "code",
   "execution_count": null,
   "metadata": {},
   "outputs": [],
   "source": [
    "def myconverter(o):\n",
    "    if isinstance(o,datetime.datetime):\n",
    "        return o.__str__()"
   ]
  },
  {
   "cell_type": "code",
   "execution_count": null,
   "metadata": {},
   "outputs": [],
   "source": [
    "for tr in table_rows:\n",
    "        tds = tr.find_all('td')\n",
    "        for td in tds:\n",
    "            link = td.find('a')\n",
    "            try:\n",
    "                if 'href' in link.attrs:\n",
    "                    l = link.get('href')\n",
    "            except:\n",
    "                pass\n",
    "        country = tds[0].text.replace('Travel Advisory','').strip()\n",
    "        base_url = 'https://travel.state.gov'\n",
    "        url = base_url + l.strip()\n",
    "        level = tds[1].text\n",
    "        date = tr.get('data-date')\n",
    "        date_obj = datetime.datetime.strptime(date,'%m/%d/%y')\n",
    "        date_converted = myconverter(date_obj)\n",
    "        date_short = date_converted[:10]\n",
    "        obj = {\"country\": country, \"hyperlink\": url, \"level\": level, \"date\": date_short}\n",
    "        myList.append(obj)"
   ]
  },
  {
   "cell_type": "markdown",
   "metadata": {},
   "source": [
    "<div class=\"alert alert-block alert-info\">\n",
    "<b>Note</b> You can also use geolocation services like positionstack.com to get country data including the coordinates.You will need an API key to use their services. However for this small example, using an API service will be an overkill. \n",
    "</div>"
   ]
  },
  {
   "cell_type": "markdown",
   "metadata": {},
   "source": [
    "### Get country coordinates from the CSV File"
   ]
  },
  {
   "cell_type": "code",
   "execution_count": null,
   "metadata": {},
   "outputs": [],
   "source": [
    "# Read country coordinates from the CSV file and store them in an array\n",
    "lstCountryCoordsArr = []\n",
    "with open(FILE_LOCATION, newline='') as f:\n",
    "    reader = csv.reader(f)\n",
    "    lstCountryCoordsArr = list(reader)\n"
   ]
  },
  {
   "cell_type": "code",
   "execution_count": null,
   "metadata": {},
   "outputs": [],
   "source": [
    "def getThreats(link):\n",
    "    countryPage = str(link).strip()\n",
    "    response = requests.get(countryPage)\n",
    "    content = BeautifulSoup(response.content, 'html.parser')\n",
    "    container = content.find(id = 'container tooltipalert')\n",
    "    anchors = container.find_all(class_=\"showThreat\")\n",
    "    threats = []\n",
    "    \n",
    "    if len(anchors) > 0:\n",
    "        html = '<div><ul>'\n",
    "        for a in anchors:\n",
    "            #print(a.attrs['data-tooltip'])\n",
    "            data = a.attrs['data-tooltip'].split(':')[0]\n",
    "            threats.append(data)\n",
    "            threats_sorted = sorted(threats)\n",
    "        for threat in threats_sorted:\n",
    "            html += '<li>' + str(threat) + '</li>'\n",
    "        html += '</ul></div>'\n",
    "    else:\n",
    "        html = '<p style=\"text-align:center;\">None 😎</p>'\n",
    "    return html"
   ]
  },
  {
   "cell_type": "code",
   "execution_count": null,
   "metadata": {},
   "outputs": [],
   "source": [
    "mapObj = ''"
   ]
  },
  {
   "cell_type": "code",
   "execution_count": null,
   "metadata": {
    "scrolled": true
   },
   "outputs": [],
   "source": [
    "# import the library\n",
    "import folium\n",
    "import base64\n",
    "from pathlib import Path\n",
    "imagePath = str(Path(IMG_PATH))\n",
    "mapObj = folium.Map(location=[20,0], tiles=\"OpenStreetMap\",zoom_start=3)\n",
    "\n",
    "for i in range(0,len(myList)):\n",
    "    country =''\n",
    "    url = ''\n",
    "    msgNumber =''\n",
    "    msgLevel = ''\n",
    "    tooltip = ''\n",
    "    advisoryDate = ''\n",
    "    lat = ''\n",
    "    lng = ''\n",
    "    file = ''\n",
    "    html = ''\n",
    "    icon = ''\n",
    "    for j in lstCountryCoordsArr:\n",
    "        if myList[i]['country'].lower() == j[3].lower():\n",
    "            country = myList[i]['country']\n",
    "            url = myList[i]['hyperlink']\n",
    "            msgNumber = myList[i]['level'][:7]\n",
    "            #print(msgNumber)\n",
    "            if msgNumber == \"Level 2\":\n",
    "                color=\"green\"\n",
    "                icon = 'fa-exclamation-triangle'\n",
    "            elif msgNumber == \"Level 3\":\n",
    "                color=\"blue\"\n",
    "                icon = 'fa-question-circle'\n",
    "            elif msgNumber == \"Level 4\":\n",
    "                color=\"red\"\n",
    "                icon = 'fa-ban'\n",
    "            else:\n",
    "                color=\"darkblue\"\n",
    "            file = imagePath + '\\\\' + country + '.png'\n",
    "            advisoryDate =  myList[i]['date']\n",
    "            msgLevel = '<span style=\"color:darkblue;\">' + myList[i]['level'][9:] +'</span>'\n",
    "            try:\n",
    "                encoded = base64.b64encode(open(file, 'rb').read()).decode()\n",
    "                imgUrl = '<img src=\"data:file;base64,{}\" alt=\"flag Image\">'.format\n",
    "                html = '<div style=\"text-align:center;\">' + imgUrl(encoded) + '&nbsp;' + '<span style=\"font-size: 16px; color: darkblue;\">'+ '&nbsp;' + country + '</span></div>' + '<p style=\"text-align:center;\"><a style=\"text-decoration:none;\" href=' + '\"' + url + '\" target=_blank>Travel Advisory</a><br />' + advisoryDate + '</p>'\n",
    "                tooltip = '<p style=\"text-align:center;\"><span style=\"font-size:14px;\">' + imgUrl(encoded) + '&nbsp;' + country + '</span>' + '<br />' + '<span style=\"font-size:16px; color:cadetblue;\">'+ msgNumber + '</span>' + '<br />' + msgLevel + '</p>'\n",
    "            except FileNotFoundError:\n",
    "                    #print('File Not Found')\n",
    "                    html = '<div style=\"text-align:center;\">' + '<span style=\"font-size: 16px; color: darkblue;\">'+ '&nbsp;' + country + '</span></div>' + '<p style=\"text-align:center;\"><a style=\"text-decoration:none;\" href=' + '\"' + url + '\" target=_blank>Travel Advisory</a><br />' + advisoryDate + '</p>'\n",
    "                    tooltip = '<p style=\"text-align:center;\"><span style=\"font-size:14px;\">' + country + '</span>' + '<br />' + '<span style=\"font-size:16px; color:cadetblue;\">'+ msgNumber + '</span>' + '<br />' + msgLevel + '</p>'\n",
    "            lat = j[1]\n",
    "            lng = j[2]\n",
    "            iframe = html + '<p style=\"background-color:red;border-radius: 2px;text-align:center;font-size:14px; color:white;\">Current Threats 💀</p>' + getThreats(url)\n",
    "            popup = folium.Popup(iframe,min_width=150,max_width=300)\n",
    "            folium.Marker(location=[lat, lng],tooltip = tooltip,popup= popup,icon=folium.Icon(color=color,icon=icon,prefix='fa')).add_to(mapObj)\n",
    "            break\n",
    "\n",
    "        "
   ]
  },
  {
   "cell_type": "code",
   "execution_count": null,
   "metadata": {},
   "outputs": [],
   "source": [
    "#Show Map\n",
    "mapObj"
   ]
  }
 ],
 "metadata": {
  "kernelspec": {
   "display_name": "Python 3",
   "language": "python",
   "name": "python3"
  },
  "language_info": {
   "codemirror_mode": {
    "name": "ipython",
    "version": 3
   },
   "file_extension": ".py",
   "mimetype": "text/x-python",
   "name": "python",
   "nbconvert_exporter": "python",
   "pygments_lexer": "ipython3",
   "version": "3.7.1"
  }
 },
 "nbformat": 4,
 "nbformat_minor": 4
}
